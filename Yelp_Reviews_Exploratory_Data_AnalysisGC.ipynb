{
 "cells": [
  {
   "cell_type": "code",
   "execution_count": 37,
   "metadata": {
    "colab": {
     "base_uri": "https://localhost:8080/"
    },
    "id": "lzEiYXUX8ZgO",
    "outputId": "703f5bc8-b156-492e-ff86-6952b3beee26"
   },
   "outputs": [],
   "source": [
    "# !pip install --upgrade pip\n",
    "# !pip install numpy requests nlpaug\n",
    "# !pip install comet_ml\n",
    "# !pip install -q pyyaml h5py\n",
    "# !pip install scikit-plot\n",
    "# !pip install tensorflow\n",
    "# !pip install websocket-client==0.47.0\n",
    "# !pip3 install patool\n",
    "# !pip3 install transformers\n",
    "# !pip3 install dask\n",
    "# !pip3 install 'fsspec>=0.3.3'\n",
    "# !pip3 install torch torchvision"
   ]
  },
  {
   "cell_type": "code",
   "execution_count": 2,
   "metadata": {
    "colab": {
     "base_uri": "https://localhost:8080/",
     "height": 86
    },
    "id": "Q7k5REi98s-Y",
    "outputId": "4236fe5a-b227-42c7-eb90-314f73cead29"
   },
   "outputs": [],
   "source": [
    "# import patoolib\n",
    "# patoolib.extract_archive(\"/content/Archive.zip\", outdir=\"/content/\")"
   ]
  },
  {
   "cell_type": "code",
   "execution_count": 1,
   "metadata": {
    "colab": {
     "base_uri": "https://localhost:8080/",
     "height": 476
    },
    "id": "o_WJC8Jr8ZgR",
    "outputId": "e8e9ae74-a349-44e1-d8aa-ab44b188419b"
   },
   "outputs": [
    {
     "name": "stdout",
     "output_type": "stream",
     "text": [
      "Total positives :  280000\n",
      "Total Negatives :  280000\n"
     ]
    },
    {
     "data": {
      "text/html": [
       "<div>\n",
       "<style scoped>\n",
       "    .dataframe tbody tr th:only-of-type {\n",
       "        vertical-align: middle;\n",
       "    }\n",
       "\n",
       "    .dataframe tbody tr th {\n",
       "        vertical-align: top;\n",
       "    }\n",
       "\n",
       "    .dataframe thead th {\n",
       "        text-align: right;\n",
       "    }\n",
       "</style>\n",
       "<table border=\"1\" class=\"dataframe\">\n",
       "  <thead>\n",
       "    <tr style=\"text-align: right;\">\n",
       "      <th></th>\n",
       "      <th>Result</th>\n",
       "      <th>Comment</th>\n",
       "    </tr>\n",
       "  </thead>\n",
       "  <tbody>\n",
       "    <tr>\n",
       "      <th>0</th>\n",
       "      <td>0</td>\n",
       "      <td>Unfortunately, the frustration of being Dr. Goldberg's patient is a repeat of the experience I've had with so many other doctors in NYC -- good doctor, terrible staff.  It seems that his staff simply never answers the phone.  It usually takes 2 hours of repeated calling to get an answer.  Who has time for that or wants to deal with it?  I have run into this problem with many other doctors and I just don't get it.  You have office workers, you have patients with medical needs, why isn't anyone answering the phone?  It's incomprehensible and not work the aggravation.  It's with regret that I feel that I have to give Dr. Goldberg 2 stars.</td>\n",
       "    </tr>\n",
       "    <tr>\n",
       "      <th>1</th>\n",
       "      <td>1</td>\n",
       "      <td>Been going to Dr. Goldberg for over 10 years. I think I was one of his 1st patients when he started at MHMG. He's been great over the years and is really all about the big picture. It is because of him, not my now former gyn Dr. Markoff, that I found out I have fibroids. He explores all options with you and is very patient and understanding. He doesn't judge and asks all the right questions. Very thorough and wants to be kept in the loop on every aspect of your medical health and your life.</td>\n",
       "    </tr>\n",
       "    <tr>\n",
       "      <th>2</th>\n",
       "      <td>0</td>\n",
       "      <td>I don't know what Dr. Goldberg was like before  moving to Arizona, but let me tell you, STAY AWAY from this doctor and this office. I was going to Dr. Johnson before he left and Goldberg took over when Johnson left. He is not a caring doctor. He is only interested in the co-pay and having you come in for medication refills every month. He will not give refills and could less about patients's financial situations. Trying to get your 90 days mail away pharmacy prescriptions through this guy is a joke. And to make matters even worse, his office staff is incompetent. 90% of the time when you call the office, they'll put you through to a voice mail, that NO ONE ever answers or returns your call. Both my adult children and husband have decided to leave this practice after experiencing such frustration. The entire office has an attitude like they are doing you a favor. Give me a break! Stay away from this doc and the practice. You deserve better and they will not be there when you really need them. I have never felt compelled to write a bad review about anyone until I met this pathetic excuse for a doctor who is all about the money.</td>\n",
       "    </tr>\n",
       "    <tr>\n",
       "      <th>3</th>\n",
       "      <td>0</td>\n",
       "      <td>I'm writing this review to give you a heads up before you see this Doctor. The office staff and administration are very unprofessional. I left a message with multiple people regarding my bill, and no one ever called me back. I had to hound them to get an answer about my bill. \\n\\nSecond, and most important, make sure your insurance is going to cover Dr. Goldberg's visits and blood work. He recommended to me that I get a physical, and he knew I was a student because I told him. I got the physical done. Later, I found out my health insurance doesn't pay for preventative visits. I received an $800.00 bill for the blood work. I can't pay for my bill because I'm a student and don't have any cash flow at this current time. I can't believe the Doctor wouldn't give me a heads up to make sure my insurance would cover work that wasn't necessary and was strictly preventative. The office can't do anything to help me cover the bill. In addition, the office staff said the onus is on me to make sure my insurance covers visits. Frustrating situation!</td>\n",
       "    </tr>\n",
       "    <tr>\n",
       "      <th>4</th>\n",
       "      <td>1</td>\n",
       "      <td>All the food is great here. But the best thing they have is their wings. Their wings are simply fantastic!!  The \\\"Wet Cajun\\\" are by the best &amp; most popular.  I also like the seasoned salt wings.  Wing Night is Monday &amp; Wednesday night, $0.75 whole wings!\\n\\nThe dining area is nice. Very family friendly! The bar is very nice is well.  This place is truly a Yinzer's dream!!  \\\"Pittsburgh Dad\\\" would love this place n'at!!</td>\n",
       "    </tr>\n",
       "  </tbody>\n",
       "</table>\n",
       "</div>"
      ],
      "text/plain": [
       "   Result  \\\n",
       "0       0   \n",
       "1       1   \n",
       "2       0   \n",
       "3       0   \n",
       "4       1   \n",
       "\n",
       "                                                                                                                                                                                                                                                                                                                                                                                                                                                                                                                                                                                                                                                                                                                                                                                                                                                                                                                                                                                                                                                                                                                                                                                   Comment  \n",
       "0                                                                                                                                                                                                                                                                                                                                                                                                                                                                                                                      Unfortunately, the frustration of being Dr. Goldberg's patient is a repeat of the experience I've had with so many other doctors in NYC -- good doctor, terrible staff.  It seems that his staff simply never answers the phone.  It usually takes 2 hours of repeated calling to get an answer.  Who has time for that or wants to deal with it?  I have run into this problem with many other doctors and I just don't get it.  You have office workers, you have patients with medical needs, why isn't anyone answering the phone?  It's incomprehensible and not work the aggravation.  It's with regret that I feel that I have to give Dr. Goldberg 2 stars.  \n",
       "1                                                                                                                                                                                                                                                                                                                                                                                                                                                                                                                                                                                                                                                                          Been going to Dr. Goldberg for over 10 years. I think I was one of his 1st patients when he started at MHMG. He's been great over the years and is really all about the big picture. It is because of him, not my now former gyn Dr. Markoff, that I found out I have fibroids. He explores all options with you and is very patient and understanding. He doesn't judge and asks all the right questions. Very thorough and wants to be kept in the loop on every aspect of your medical health and your life.  \n",
       "2  I don't know what Dr. Goldberg was like before  moving to Arizona, but let me tell you, STAY AWAY from this doctor and this office. I was going to Dr. Johnson before he left and Goldberg took over when Johnson left. He is not a caring doctor. He is only interested in the co-pay and having you come in for medication refills every month. He will not give refills and could less about patients's financial situations. Trying to get your 90 days mail away pharmacy prescriptions through this guy is a joke. And to make matters even worse, his office staff is incompetent. 90% of the time when you call the office, they'll put you through to a voice mail, that NO ONE ever answers or returns your call. Both my adult children and husband have decided to leave this practice after experiencing such frustration. The entire office has an attitude like they are doing you a favor. Give me a break! Stay away from this doc and the practice. You deserve better and they will not be there when you really need them. I have never felt compelled to write a bad review about anyone until I met this pathetic excuse for a doctor who is all about the money.  \n",
       "3                                                                                               I'm writing this review to give you a heads up before you see this Doctor. The office staff and administration are very unprofessional. I left a message with multiple people regarding my bill, and no one ever called me back. I had to hound them to get an answer about my bill. \\n\\nSecond, and most important, make sure your insurance is going to cover Dr. Goldberg's visits and blood work. He recommended to me that I get a physical, and he knew I was a student because I told him. I got the physical done. Later, I found out my health insurance doesn't pay for preventative visits. I received an $800.00 bill for the blood work. I can't pay for my bill because I'm a student and don't have any cash flow at this current time. I can't believe the Doctor wouldn't give me a heads up to make sure my insurance would cover work that wasn't necessary and was strictly preventative. The office can't do anything to help me cover the bill. In addition, the office staff said the onus is on me to make sure my insurance covers visits. Frustrating situation!  \n",
       "4                                                                                                                                                                                                                                                                                                                                                                                                                                                                                                                                                                                                                                                                                                                                                All the food is great here. But the best thing they have is their wings. Their wings are simply fantastic!!  The \\\"Wet Cajun\\\" are by the best & most popular.  I also like the seasoned salt wings.  Wing Night is Monday & Wednesday night, $0.75 whole wings!\\n\\nThe dining area is nice. Very family friendly! The bar is very nice is well.  This place is truly a Yinzer's dream!!  \\\"Pittsburgh Dad\\\" would love this place n'at!!  "
      ]
     },
     "execution_count": 1,
     "metadata": {},
     "output_type": "execute_result"
    }
   ],
   "source": [
    "\n",
    "# Install libraries\n",
    "from comet_ml import Experiment\n",
    "import pandas as pd\n",
    "import numpy as np\n",
    "import nlpaug.augmenter.word as nlpaw\n",
    "from sklearn.model_selection import train_test_split\n",
    "from tqdm import tqdm\n",
    "import os\n",
    "import random\n",
    "import seaborn as sns\n",
    "import scikitplot as skplt\n",
    "from sklearn.metrics import accuracy_score\n",
    "from sklearn.metrics import roc_auc_score\n",
    "from sklearn.metrics import roc_curve\n",
    "import tensorflow as tf\n",
    "from tensorflow.keras import backend as K\n",
    "from tensorflow.keras import initializers\n",
    "from transformers import DistilBertTokenizerFast\n",
    "from transformers import TFDistilBertModel, DistilBertConfig\n",
    "import gc\n",
    "import dask\n",
    "import dask.dataframe as dd\n",
    "\n",
    "# Import utility functions\n",
    "# from train_utils import batch_encode\n",
    "\n",
    "# Import matplotlib\n",
    "pd.plotting.register_matplotlib_converters()\n",
    "import matplotlib.pyplot as plt\n",
    "get_ipython().run_line_magic('matplotlib', 'inline')\n",
    "\n",
    "# Import utility functions\n",
    "from data_utils import analyze_dist,augment_sentence,augment_text,combine_toxic_classes,get_relevant_words,undersample_majority\n",
    "\n",
    "# Load the data\n",
    "dask_df_train_valid = pd.read_csv('train.csv',engine='python', encoding='utf-8', error_bad_lines=False,header=None)\n",
    "dask_df_train_valid.columns =['Result', 'Comment']\n",
    "# dask_df_train_valid.npartitions\n",
    "\n",
    "# dask_df_train_valid[0] = dask_df_train_valid[0].mask(dask_df_train_valid[0] == 1, 0)\n",
    "# dask_df_train_valid[0] = dask_df_train_valid[0].mask(dask_df_train_valid[0] == 2, 1)\n",
    "\n",
    "dask_df_train_valid.loc[dask_df_train_valid['Result'] == 1,'Result'] = 0\n",
    "dask_df_train_valid.loc[dask_df_train_valid['Result'] == 2,'Result'] = 1\n",
    "\n",
    "\n",
    "test = pd.read_csv('test.csv',engine='python', encoding='utf-8', error_bad_lines=False,header=None)\n",
    "test.columns =['Result', 'Comment']\n",
    "test.loc[test['Result'] == 1,'Result'] = 0\n",
    "test.loc[test['Result'] == 2,'Result'] = 1\n",
    "\n",
    "\n",
    "y_test=test['Result']\n",
    "# Check data\n",
    "# 1= Negative , 2 = Positive  \n",
    "\n",
    "df_pos = dask_df_train_valid[dask_df_train_valid['Result'] == 1]\n",
    "print(\"Total positives : \",df_pos.shape[0])\n",
    "\n",
    "df_neg = dask_df_train_valid[dask_df_train_valid['Result'] == 0]\n",
    "print(\"Total Negatives : \",df_neg.shape[0])\n",
    "\n",
    "\n",
    "# Allow us to see full text (not truncated)\n",
    "pd.set_option('display.max_colwidth', None)\n",
    "dask_df_train_valid.head()"
   ]
  },
  {
   "cell_type": "code",
   "execution_count": 2,
   "metadata": {},
   "outputs": [
    {
     "name": "stdout",
     "output_type": "stream",
     "text": [
      "Total positives :  280000\n",
      "Total Negatives :  280000\n"
     ]
    }
   ],
   "source": [
    "\n",
    "df_pos = dask_df_train_valid[dask_df_train_valid['Result'] == 1]\n",
    "print(\"Total positives : \",df_pos.shape[0])\n",
    "\n",
    "df_neg = dask_df_train_valid[dask_df_train_valid['Result'] == 0]\n",
    "print(\"Total Negatives : \",df_neg.shape[0])"
   ]
  },
  {
   "cell_type": "markdown",
   "metadata": {
    "id": "tzO_OFlR8ZgU"
   },
   "source": [
    "# We have Balanced dataset\n",
    "In an unbalance dataset we end up with the model biased towards the majority class. Cause model hasn't seen/learned through enough examples about the minority class. In order to to handle unbalanced dataset we perform operations like Downsampling, Upsampling, SMOTEK etc. to balance the dataset. \n",
    "\n",
    "###### Now we gonna down sample our training dataset as data is huge for our computing resource.\n"
   ]
  },
  {
   "cell_type": "code",
   "execution_count": 4,
   "metadata": {
    "colab": {
     "base_uri": "https://localhost:8080/"
    },
    "id": "_6vgUHMj8ZgU",
    "outputId": "0bcd246a-9c00-4850-b764-ed25857d006a"
   },
   "outputs": [
    {
     "name": "stdout",
     "output_type": "stream",
     "text": [
      "(4480, 2)\n"
     ]
    }
   ],
   "source": [
    "#Test with multiple values \n",
    "downsamplePercentage=(0.8/100) #0.8 % Data of Original set\n",
    "\n",
    "df_pos = df_pos.sample(n=(int)((df_pos.shape[0])*downsamplePercentage)) #Downsampling positive reviews\n",
    "\n",
    "df_neg = df_neg.sample(n=(int)((df_neg.shape[0])*downsamplePercentage)) #Downsampling negative reviews\n",
    "\n",
    "# join downsampled data and shuffle them\n",
    "df = pd.concat([df_pos,df_neg]).sample(frac=1)\n",
    "print(df.shape)"
   ]
  },
  {
   "cell_type": "code",
   "execution_count": 3,
   "metadata": {},
   "outputs": [
    {
     "data": {
      "text/html": [
       "<div>\n",
       "<style scoped>\n",
       "    .dataframe tbody tr th:only-of-type {\n",
       "        vertical-align: middle;\n",
       "    }\n",
       "\n",
       "    .dataframe tbody tr th {\n",
       "        vertical-align: top;\n",
       "    }\n",
       "\n",
       "    .dataframe thead th {\n",
       "        text-align: right;\n",
       "    }\n",
       "</style>\n",
       "<table border=\"1\" class=\"dataframe\">\n",
       "  <thead>\n",
       "    <tr style=\"text-align: right;\">\n",
       "      <th></th>\n",
       "      <th>Result</th>\n",
       "      <th>Comment</th>\n",
       "    </tr>\n",
       "  </thead>\n",
       "  <tbody>\n",
       "    <tr>\n",
       "      <th>293345</th>\n",
       "      <td>1</td>\n",
       "      <td>Service was ok, food was mediocre. Their margaritas were awesome!</td>\n",
       "    </tr>\n",
       "    <tr>\n",
       "      <th>479856</th>\n",
       "      <td>1</td>\n",
       "      <td>Over-the-top cheesy entertainment, drunken tourists acting foolish, 80's rock music, and accompanying videos? All served alongside a comprehensive bourbon list including several cocktails and an ironic list of available Bartles and Jaymes wine coolers? Yes please!\\n\\nTake this place for what it is--a spoof of an 80's music bar in homage to Rock of Ages, the show playing at the Venetian--and don't get too serious about it. You'll probably have a good time.</td>\n",
       "    </tr>\n",
       "    <tr>\n",
       "      <th>340340</th>\n",
       "      <td>1</td>\n",
       "      <td>This is a very mom and pop shop! If you're judgement is  this based on the bathroom ambiance and service of a restaurant you're missing out. This place is an absolute favorite for my husband and I. Their shrimp fried rice is the best I've ever had! Their pho tai is amazing as well. Something that I would critique is that it seems like they add the beef before it's served vs. while it's being poured. Its not a flavor factor, more like a texture thing. I haven't tried their fried egg rolls only because their spring rolls have me hooked! Typically we order 2 soups, spring rolls and fried rice and pay a teeny bit over $20 (what a STEAL). The service is super fast but I think that there is a serious language barrier between servers and guests therefore it doesn't come off as friendly. Either way, this place is awesome and everyone that we have taken there had been impressed!</td>\n",
       "    </tr>\n",
       "    <tr>\n",
       "      <th>55248</th>\n",
       "      <td>0</td>\n",
       "      <td>Sam woo in Los Angeles is better. I came in here last week and a roach crawled on my head as soon as we got seated no joke guys FYI</td>\n",
       "    </tr>\n",
       "    <tr>\n",
       "      <th>197748</th>\n",
       "      <td>0</td>\n",
       "      <td>When Fry's first opened, I was impressed.  But that was so short lived.  I noticed they have a Ginormous store, and a lot to look at but everytime you want to make a purchase, they are out of everything and nobody in the store can tell you when it's coming in.  That has happened to me several times with different items I've wanted and finally I decided that these people totally annoy me.  I've waited 2 months for an item to come in and every week they tell me to call them and see if the truck has that merchandise.  And every week they gave me the same story.  Nope the truck didn't have that merchandise.  Ok so you're an electronics store, and you have access to computers, and you have no clue as to what merchandise is coming or you can't give your customers any idea as to which year you will be receiving the merchandise that you are supposedly selling in your store. Their customer service is terrible.  The only effort the employees will make is to breath, and that's about it.  Well, there's other electronics stores who come through for me. If you don't need my money, I don't need your headache.   No more Fry's for me.</td>\n",
       "    </tr>\n",
       "  </tbody>\n",
       "</table>\n",
       "</div>"
      ],
      "text/plain": [
       "        Result  \\\n",
       "293345       1   \n",
       "479856       1   \n",
       "340340       1   \n",
       "55248        0   \n",
       "197748       0   \n",
       "\n",
       "                                                                                                                                                                                                                                                                                                                                                                                                                                                                                                                                                                                                                                                                                                                                                                                                                                                                                                                                                                                                                                                                                                                                                                                Comment  \n",
       "293345                                                                                                                                                                                                                                                                                                                                                                                                                                                                                                                                                                                                                                                                                                                                                                                                                                                                                                                                                                                                                                                                                                                Service was ok, food was mediocre. Their margaritas were awesome!  \n",
       "479856                                                                                                                                                                                                                                                                                                                                                                                                                                                                                                                                                                                                                                                                                                      Over-the-top cheesy entertainment, drunken tourists acting foolish, 80's rock music, and accompanying videos? All served alongside a comprehensive bourbon list including several cocktails and an ironic list of available Bartles and Jaymes wine coolers? Yes please!\\n\\nTake this place for what it is--a spoof of an 80's music bar in homage to Rock of Ages, the show playing at the Venetian--and don't get too serious about it. You'll probably have a good time.  \n",
       "340340                                                                                                                                                                                                                                                               This is a very mom and pop shop! If you're judgement is  this based on the bathroom ambiance and service of a restaurant you're missing out. This place is an absolute favorite for my husband and I. Their shrimp fried rice is the best I've ever had! Their pho tai is amazing as well. Something that I would critique is that it seems like they add the beef before it's served vs. while it's being poured. Its not a flavor factor, more like a texture thing. I haven't tried their fried egg rolls only because their spring rolls have me hooked! Typically we order 2 soups, spring rolls and fried rice and pay a teeny bit over $20 (what a STEAL). The service is super fast but I think that there is a serious language barrier between servers and guests therefore it doesn't come off as friendly. Either way, this place is awesome and everyone that we have taken there had been impressed!  \n",
       "55248                                                                                                                                                                                                                                                                                                                                                                                                                                                                                                                                                                                                                                                                                                                                                                                                                                                                                                                                                                                                                                               Sam woo in Los Angeles is better. I came in here last week and a roach crawled on my head as soon as we got seated no joke guys FYI  \n",
       "197748  When Fry's first opened, I was impressed.  But that was so short lived.  I noticed they have a Ginormous store, and a lot to look at but everytime you want to make a purchase, they are out of everything and nobody in the store can tell you when it's coming in.  That has happened to me several times with different items I've wanted and finally I decided that these people totally annoy me.  I've waited 2 months for an item to come in and every week they tell me to call them and see if the truck has that merchandise.  And every week they gave me the same story.  Nope the truck didn't have that merchandise.  Ok so you're an electronics store, and you have access to computers, and you have no clue as to what merchandise is coming or you can't give your customers any idea as to which year you will be receiving the merchandise that you are supposedly selling in your store. Their customer service is terrible.  The only effort the employees will make is to breath, and that's about it.  Well, there's other electronics stores who come through for me. If you don't need my money, I don't need your headache.   No more Fry's for me.  "
      ]
     },
     "execution_count": 3,
     "metadata": {},
     "output_type": "execute_result"
    }
   ],
   "source": [
    "df.head()"
   ]
  },
  {
   "cell_type": "code",
   "execution_count": 4,
   "metadata": {
    "id": "LlViAn488ZgV"
   },
   "outputs": [],
   "source": [
    "# Generate 80-20 train-validation splits\n",
    "X_train, X_valid, y_train, y_valid = train_test_split(df[\"Comment\"],\n",
    "                                                      df[\"Result\"],\n",
    "                                                      train_size=0.8,\n",
    "                                                      stratify=df['Result'],\n",
    "                                                      shuffle=True,\n",
    "                                                      random_state=42)\n"
   ]
  },
  {
   "cell_type": "code",
   "execution_count": 5,
   "metadata": {},
   "outputs": [
    {
     "data": {
      "text/plain": [
       "array([0, 1])"
      ]
     },
     "execution_count": 5,
     "metadata": {},
     "output_type": "execute_result"
    }
   ],
   "source": [
    "# print(X_train)\n",
    "# print(X_valid)\n",
    "# print(y_train)\n",
    "# print(y_valid)\n",
    "np.unique(test[\"Result\"])"
   ]
  },
  {
   "cell_type": "code",
   "execution_count": 8,
   "metadata": {
    "colab": {
     "base_uri": "https://localhost:8080/"
    },
    "id": "wgZr7Rnb8ZgV",
    "outputId": "f8a2733c-b9a8-499c-d6f8-ecc43d6673f2"
   },
   "outputs": [
    {
     "name": "stderr",
     "output_type": "stream",
     "text": [
      "<ipython-input-8-f0463a980e3e>:1: DeprecationWarning: The default dtype for empty Series will be 'object' instead of 'float64' in a future version. Specify a dtype explicitly to silence this warning.\n",
      "  def batch_encode(tokenizer=[], texts=pd.Series([]), batch_size=256, max_length=512):\n"
     ]
    }
   ],
   "source": [
    "\n",
    "def batch_encode(tokenizer=[], texts=pd.Series([]), batch_size=256, max_length=512):\n",
    "    \"\"\"\"\"\"\"\"\"\n",
    "    A function that encodes a batch of texts and returns the texts'\n",
    "    corresponding encodings and attention masks that are ready to be fed \n",
    "    into a pre-trained transformer model.\n",
    "    \n",
    "    Input:\n",
    "        - tokenizer:   Tokenizer object from the PreTrainedTokenizer Class\n",
    "        - texts:       List of strings where each string represents a text\n",
    "        - batch_size:  Integer controlling number of texts in a batch\n",
    "        - max_length:  Integer controlling max number of words to tokenize in a given text\n",
    "    Output:\n",
    "        - input_ids:       sequence of texts encoded as a tf.Tensor object\n",
    "        - attention_mask:  the texts' attention mask encoded as a tf.Tensor object\n",
    "    \"\"\"\"\"\"\"\"\"\n",
    "    input_ids = []\n",
    "    attention_mask = []\n",
    "    \n",
    "    for i in range(0, len(texts), batch_size):\n",
    "        batch = texts[i:i+batch_size]\n",
    "        inputs = tokenizer.batch_encode_plus(batch,add_special_tokens = True,\n",
    "                                             max_length=max_length,\n",
    "                                             padding='longest', #implements dynamic padding\n",
    "                                             truncation=True,\n",
    "                                             return_attention_mask=True,\n",
    "                                             return_token_type_ids=False\n",
    "                                             )\n",
    "#         print(\"Tokenizing\")\n",
    "#         print(inputs)\n",
    "#         print(\"\\n\")\n",
    "        input_ids.extend(inputs['input_ids'])\n",
    "        attention_mask.extend(inputs['attention_mask'])\n",
    "    \n",
    "    \n",
    "    return tf.convert_to_tensor(input_ids), tf.convert_to_tensor(attention_mask)\n",
    "\n",
    "\n",
    "\n",
    "# Instantiate DistilBERT tokenizer...we use the Fast version to optimize runtime\n",
    "tokenizer = DistilBertTokenizerFast.from_pretrained('distilbert-base-uncased')\n",
    "\n",
    "# Encode X_train\n",
    "X_train_ids, X_train_attention = batch_encode(tokenizer, X_train.tolist())\n",
    "\n",
    "# Encode X_valid\n",
    "X_valid_ids, X_valid_attention = batch_encode(tokenizer, X_valid.tolist())\n",
    "\n",
    "\n",
    "\n",
    "# Encode X_test\n",
    "X_test_ids, X_test_attention = batch_encode(tokenizer, test['Comment'].tolist())\n",
    "\n",
    "########## Ensure reproducibility ##########\n",
    "# Set parameters:\n",
    "params = {'MAX_LENGTH': 128,\n",
    "          'EPOCHS': 8,\n",
    "          'LEARNING_RATE': 0.01, # 3e-5\n",
    "          'FT_EPOCHS': 6,\n",
    "          'OPTIMIZER': 'adam',\n",
    "          'FT_LEARNING_RATE': 0.005,\n",
    "          'BATCH_SIZE': 64,\n",
    "          'NUM_STEPS':  16,\n",
    "          'DISTILBERT_DROPOUT': 0.2,\n",
    "          'DISTILBERT_ATT_DROPOUT': 0.2,\n",
    "          'LAYER_DROPOUT': 0.2,\n",
    "          'KERNEL_INITIALIZER': 'GlorotNormal',\n",
    "          'BIAS_INITIALIZER': 'zeros',\n",
    "          'POS_PROBA_THRESHOLD': 0.5,          \n",
    "          'ADDED_LAYERS': 'Dense 256, Dense 32, Dropout 0.2',\n",
    "          'LR_SCHEDULE': '5e-5 for 6 epochs, Fine-tune w/ adam for 6 epochs @2e-5',\n",
    "          'FREEZING': 'All DistilBERT layers frozen for 6 epochs, then unfrozen for 6',\n",
    "          'CALLBACKS': '[early_stopping monitoring val_loss w/ patience=0]',\n",
    "          'RANDOM_STATE':42\n",
    "          }\n",
    "\n",
    "\n",
    "# 1. Set `PYTHONHASHSEED` environment variable at a fixed value\n",
    "os.environ['PYTHONHASHSEED']=str(params['RANDOM_STATE'])\n",
    "\n",
    "# 2. Set `python` built-in pseudo-random generator at a fixed value\n",
    "random.seed(params['RANDOM_STATE'])\n",
    "\n",
    "# 3. Set `numpy` pseudo-random generator at a fixed value\n",
    "np.random.seed(params['RANDOM_STATE'])\n",
    "\n",
    "# 4. Set `tensorflow` pseudo-random generator at a fixed value\n",
    "tf.random.set_seed(seed=params['RANDOM_STATE'])\n",
    "\n",
    "## Build Model \n",
    "def build_model(transformer, max_length=512):\n",
    "    \"\"\"\"\"\"\"\"\"\n",
    "    Template for building a model off of the BERT or DistilBERT architecture\n",
    "    for a binary classification task.\n",
    "\n",
    "    Input:\n",
    "      - transformer:  a base Hugging Face transformer model object (BERT or DistilBERT)\n",
    "                      with no added classification head attached.\n",
    "      - max_length:   integer controlling the maximum number of encoded tokens \n",
    "                      in a given sequence.\n",
    "    \n",
    "    Output:\n",
    "      - model:        a compiled tf.keras.Model with added classification layers \n",
    "                      on top of the base pre-trained model architecture.\n",
    "\"\"\"\"\"\"\"\"\"\n",
    "    # Define weight initializer with a random seed to ensure reproducibility\n",
    "    weight_initializer = tf.keras.initializers.GlorotNormal(seed=params['RANDOM_STATE']) \n",
    "    \n",
    "    # Define input layers\n",
    "    input_ids_layer = tf.keras.layers.Input(shape=(max_length,), \n",
    "                                            name='input_ids', \n",
    "                                            dtype='int32')\n",
    "    input_attention_layer = tf.keras.layers.Input(shape=(max_length,), \n",
    "                                                  name='input_attention', \n",
    "                                                  dtype='int32')\n",
    "    \n",
    "    # DistilBERT outputs a tuple where the first element at index 0\n",
    "    # represents the hidden-state at the output of the model's last layer.\n",
    "    # It is a tf.Tensor of shape (batch_size, sequence_length, hidden_size=768).\n",
    "    last_hidden_state = transformer([input_ids_layer, input_attention_layer])[0]\n",
    "    \n",
    "    # We only care about DistilBERT's output for the [CLS] token, which is located\n",
    "    # at index 0.  Splicing out the [CLS] tokens gives us 2D data.\n",
    "    cls_token = last_hidden_state[:, 0, :]\n",
    "    \n",
    "    D1 = tf.keras.layers.Dropout(params['LAYER_DROPOUT'],\n",
    "                                 seed=params['RANDOM_STATE']\n",
    "                                )(cls_token)\n",
    "    \n",
    "    X = tf.keras.layers.Dense(256,\n",
    "                              activation='relu',\n",
    "                              kernel_initializer=weight_initializer,\n",
    "                              bias_initializer='zeros'\n",
    "                              )(D1)\n",
    "    \n",
    "    D2 = tf.keras.layers.Dropout(params['LAYER_DROPOUT'],\n",
    "                                 seed=params['RANDOM_STATE']\n",
    "                                )(X)\n",
    "    \n",
    "    X = tf.keras.layers.Dense(32,\n",
    "                              activation='relu',\n",
    "                              kernel_initializer=weight_initializer,\n",
    "                              bias_initializer='zeros'\n",
    "                              )(D2)\n",
    "    \n",
    "    D3 = tf.keras.layers.Dropout(params['LAYER_DROPOUT'],\n",
    "                                 seed=params['RANDOM_STATE']\n",
    "                                )(X)\n",
    "    \n",
    "    # Define a single node that makes up the output layer (for binary classification)\n",
    "    output = tf.keras.layers.Dense(1, \n",
    "                                   activation='sigmoid',\n",
    "                                   kernel_initializer=weight_initializer,  # CONSIDER USING CONSTRAINT\n",
    "                                   bias_initializer='zeros'\n",
    "                                   )(D3)\n",
    "    \n",
    "    # Define the model\n",
    "    model = tf.keras.Model([input_ids_layer, input_attention_layer], output)\n",
    "    \n",
    "    # Compile the model\n",
    "    model.compile(tf.keras.optimizers.Adam(lr=params['LEARNING_RATE']), \n",
    "                  loss='binary_crossentropy',\n",
    "                  metrics=['accuracy'])\n",
    "    \n",
    "    return model"
   ]
  },
  {
   "cell_type": "code",
   "execution_count": 7,
   "metadata": {
    "colab": {
     "base_uri": "https://localhost:8080/"
    },
    "id": "79AeVNsi8Zga",
    "outputId": "7100c93c-f095-489d-eab6-afe8a8cf69e0"
   },
   "outputs": [
    {
     "data": {
      "text/plain": [
       "20"
      ]
     },
     "execution_count": 7,
     "metadata": {},
     "output_type": "execute_result"
    }
   ],
   "source": [
    "gc.collect()"
   ]
  },
  {
   "cell_type": "code",
   "execution_count": 8,
   "metadata": {},
   "outputs": [
    {
     "data": {
      "text/plain": [
       "16"
      ]
     },
     "execution_count": 8,
     "metadata": {},
     "output_type": "execute_result"
    }
   ],
   "source": [
    "params['NUM_STEPS']"
   ]
  },
  {
   "cell_type": "code",
   "execution_count": 9,
   "metadata": {},
   "outputs": [
    {
     "data": {
      "text/plain": [
       "0.01"
      ]
     },
     "execution_count": 9,
     "metadata": {},
     "output_type": "execute_result"
    }
   ],
   "source": [
    "params['LEARNING_RATE']"
   ]
  },
  {
   "cell_type": "code",
   "execution_count": 9,
   "metadata": {
    "colab": {
     "base_uri": "https://localhost:8080/"
    },
    "id": "fvoir-1c8Zgb",
    "outputId": "5ca993a6-77fd-4147-ff0b-3bb7f71efef5"
   },
   "outputs": [
    {
     "name": "stderr",
     "output_type": "stream",
     "text": [
      "Some layers from the model checkpoint at distilbert-base-uncased were not used when initializing TFDistilBertModel: ['vocab_transform', 'vocab_projector', 'vocab_layer_norm', 'activation_13']\n",
      "- This IS expected if you are initializing TFDistilBertModel from the checkpoint of a model trained on another task or with another architecture (e.g. initializing a BertForSequenceClassification model from a BertForPreTraining model).\n",
      "- This IS NOT expected if you are initializing TFDistilBertModel from the checkpoint of a model that you expect to be exactly identical (initializing a BertForSequenceClassification model from a BertForSequenceClassification model).\n",
      "All the layers of TFDistilBertModel were initialized from the model checkpoint at distilbert-base-uncased.\n",
      "If your task is similar to the task the model of the checkpoint was trained on, you can already use TFDistilBertModel for predictions without further training.\n"
     ]
    },
    {
     "name": "stdout",
     "output_type": "stream",
     "text": [
      "WARNING:tensorflow:The parameters `output_attentions`, `output_hidden_states` and `use_cache` cannot be updated when calling a model.They have to be set to True/False in the config object (i.e.: `config=XConfig.from_pretrained('name', output_attentions=True)`).\n",
      "WARNING:tensorflow:AutoGraph could not transform <bound method Socket.send of <zmq.sugar.socket.Socket object at 0x7ffc9857d580>> and will run it as-is.\n",
      "Please report this to the TensorFlow team. When filing the bug, set the verbosity to 10 (on Linux, `export AUTOGRAPH_VERBOSITY=10`) and attach the full output.\n",
      "Cause: module, class, method, function, traceback, frame, or code object was expected, got cython_function_or_method\n",
      "To silence this warning, decorate the function with @tf.autograph.experimental.do_not_convert\n",
      "WARNING: AutoGraph could not transform <bound method Socket.send of <zmq.sugar.socket.Socket object at 0x7ffc9857d580>> and will run it as-is.\n",
      "Please report this to the TensorFlow team. When filing the bug, set the verbosity to 10 (on Linux, `export AUTOGRAPH_VERBOSITY=10`) and attach the full output.\n",
      "Cause: module, class, method, function, traceback, frame, or code object was expected, got cython_function_or_method\n",
      "To silence this warning, decorate the function with @tf.autograph.experimental.do_not_convert\n",
      "WARNING:tensorflow:The parameter `return_dict` cannot be set in graph mode and will always be set to `True`.\n",
      "Epoch 1/8\n",
      "WARNING:tensorflow:The parameters `output_attentions`, `output_hidden_states` and `use_cache` cannot be updated when calling a model.They have to be set to True/False in the config object (i.e.: `config=XConfig.from_pretrained('name', output_attentions=True)`).\n",
      "WARNING:tensorflow:The parameter `return_dict` cannot be set in graph mode and will always be set to `True`.\n",
      "WARNING:tensorflow:The parameters `output_attentions`, `output_hidden_states` and `use_cache` cannot be updated when calling a model.They have to be set to True/False in the config object (i.e.: `config=XConfig.from_pretrained('name', output_attentions=True)`).\n",
      "WARNING:tensorflow:The parameter `return_dict` cannot be set in graph mode and will always be set to `True`.\n",
      "16/16 [==============================] - ETA: 0s - loss: 0.8591 - accuracy: 0.5645 WARNING:tensorflow:The parameters `output_attentions`, `output_hidden_states` and `use_cache` cannot be updated when calling a model.They have to be set to True/False in the config object (i.e.: `config=XConfig.from_pretrained('name', output_attentions=True)`).\n",
      "WARNING:tensorflow:The parameter `return_dict` cannot be set in graph mode and will always be set to `True`.\n",
      "16/16 [==============================] - 727s 47s/step - loss: 0.8503 - accuracy: 0.5689 - val_loss: 0.4200 - val_accuracy: 0.8170\n",
      "Epoch 2/8\n",
      "16/16 [==============================] - 717s 47s/step - loss: 0.4628 - accuracy: 0.7601 - val_loss: 0.3598 - val_accuracy: 0.8371\n",
      "Epoch 3/8\n",
      "16/16 [==============================] - 708s 46s/step - loss: 0.4234 - accuracy: 0.8077 - val_loss: 0.3291 - val_accuracy: 0.8610\n",
      "Epoch 4/8\n",
      "16/16 [==============================] - 707s 46s/step - loss: 0.4081 - accuracy: 0.8208 - val_loss: 0.3476 - val_accuracy: 0.8532\n",
      "Epoch 5/8\n",
      "16/16 [==============================] - 711s 46s/step - loss: 0.4867 - accuracy: 0.7951 - val_loss: 0.3263 - val_accuracy: 0.8577\n",
      "Epoch 6/8\n",
      "16/16 [==============================] - 716s 46s/step - loss: 0.4039 - accuracy: 0.8240 - val_loss: 0.4611 - val_accuracy: 0.7946\n",
      "Epoch 7/8\n",
      "16/16 [==============================] - 718s 47s/step - loss: 0.4028 - accuracy: 0.8217 - val_loss: 0.3529 - val_accuracy: 0.8421\n",
      "Epoch 8/8\n",
      "16/16 [==============================] - 713s 46s/step - loss: 0.3653 - accuracy: 0.8563 - val_loss: 0.3747 - val_accuracy: 0.8359\n"
     ]
    }
   ],
   "source": [
    "config = DistilBertConfig(dropout=params['DISTILBERT_DROPOUT'], \n",
    "                          attention_dropout=params['DISTILBERT_ATT_DROPOUT'], \n",
    "                          output_hidden_states=True)\n",
    "distilBERT = TFDistilBertModel.from_pretrained('distilbert-base-uncased', config=config)\n",
    "\n",
    "# Freeze DistilBERT layers to preserve pre-trained weights \n",
    "for layer in distilBERT.layers:\n",
    "    layer.trainable = False\n",
    "\n",
    "# Build model\n",
    "model = build_model(distilBERT)\n",
    "\n",
    "# Train Weights of Added Layers and Classification Head \n",
    "\n",
    "# Train the model\n",
    "train_history1 = model.fit(\n",
    "    x = [X_train_ids, X_train_attention],\n",
    "    y = y_train.to_numpy(),\n",
    "    epochs = params['EPOCHS'],\n",
    "    batch_size = params['BATCH_SIZE'],\n",
    "    steps_per_epoch = params['NUM_STEPS'],\n",
    "    validation_data = ([X_valid_ids, X_valid_attention], y_valid.to_numpy()),\n",
    "    verbose=1\n",
    ")"
   ]
  },
  {
   "cell_type": "code",
   "execution_count": 11,
   "metadata": {
    "colab": {
     "base_uri": "https://localhost:8080/"
    },
    "id": "b45ABLxnN4Zz",
    "outputId": "62652e88-51c9-4263-b7f1-b69978f3cacb"
   },
   "outputs": [],
   "source": [
    "# # Unfreeze DistilBERT weights to enable fine-tuning\n",
    "# for layer in distilBERT.layers:\n",
    "#     layer.trainable = True\n",
    "\n",
    "# # Lower the learning rate to prevent destruction of pre-trained weights\n",
    "# optimizer = tf.keras.optimizers.Adam(lr=0.008)\n",
    "\n",
    "# # Recompile model after unfreezing\n",
    "# model.compile(optimizer=optimizer, \n",
    "#               loss='binary_crossentropy',\n",
    "#               metrics=['accuracy'])\n",
    "\n",
    "# # Define callbacks\n",
    "# early_stopping = tf.keras.callbacks.EarlyStopping(monitor='val_loss',\n",
    "#                                                   mode='min',\n",
    "#                                                   min_delta=0,\n",
    "#                                                   patience=0,\n",
    "#                                                   restore_best_weights=True)\n",
    "\n",
    "# # Train the model\n",
    "# train_history2 = model.fit(\n",
    "#     x = [X_train_ids, X_train_attention],\n",
    "#     y = y_train.to_numpy(),\n",
    "#     epochs = params['FT_EPOCHS'],\n",
    "#     batch_size = params['BATCH_SIZE'],\n",
    "#     steps_per_epoch = params['NUM_STEPS'],\n",
    "#     validation_data = ([X_valid_ids, X_valid_attention], y_valid.to_numpy()),\n",
    "#     callbacks=[early_stopping],\n",
    "#     verbose=1\n",
    "# )\n"
   ]
  },
  {
   "cell_type": "code",
   "execution_count": 10,
   "metadata": {
    "colab": {
     "base_uri": "https://localhost:8080/",
     "height": 286
    },
    "id": "Cffx595COUel",
    "outputId": "bcfc9f47-8fcf-42f1-ae67-48d1e5b11cd2"
   },
   "outputs": [
    {
     "data": {
      "text/plain": [
       "0.5"
      ]
     },
     "execution_count": 10,
     "metadata": {},
     "output_type": "execute_result"
    }
   ],
   "source": [
    "params['POS_PROBA_THRESHOLD']"
   ]
  },
  {
   "cell_type": "code",
   "execution_count": 13,
   "metadata": {},
   "outputs": [
    {
     "name": "stdout",
     "output_type": "stream",
     "text": [
      "WARNING:tensorflow:The parameters `output_attentions`, `output_hidden_states` and `use_cache` cannot be updated when calling a model.They have to be set to True/False in the config object (i.e.: `config=XConfig.from_pretrained('name', output_attentions=True)`).\n",
      "WARNING:tensorflow:The parameter `return_dict` cannot be set in graph mode and will always be set to `True`.\n",
      "Accuracy:   0.892\n",
      "ROC-AUC:    0.9583980839167561\n"
     ]
    }
   ],
   "source": [
    "data = test[:1000]\n",
    "X_test= data[\"Comment\"]\n",
    "y_test = data[\"Result\"]\n",
    "X_test_ids, X_test_attention = batch_encode(tokenizer, X_test.tolist())\n",
    "y_pred = model.predict([X_test_ids, X_test_attention])\n",
    "y_pred_thresh = np.where(y_pred >= params['POS_PROBA_THRESHOLD'], 1, 0)\n",
    "\n",
    "# Get evaluation results\n",
    "accuracy = accuracy_score(y_test, y_pred_thresh)\n",
    "auc_roc = roc_auc_score(y_test, y_pred)\n",
    "\n",
    "# Log the ROC curve\n",
    "# fpr, tpr, thresholds = roc_curve(y_test.to_numpy(), y_pred)\n",
    "print('Accuracy:  ', accuracy)    # 0.892\n",
    "print('ROC-AUC:   ', auc_roc)  "
   ]
  },
  {
   "cell_type": "code",
   "execution_count": 17,
   "metadata": {},
   "outputs": [
    {
     "data": {
      "text/plain": [
       "array([0, 1])"
      ]
     },
     "execution_count": 17,
     "metadata": {},
     "output_type": "execute_result"
    }
   ],
   "source": [
    "np.unique(y_pred_thresh)"
   ]
  },
  {
   "cell_type": "code",
   "execution_count": 15,
   "metadata": {},
   "outputs": [
    {
     "name": "stdout",
     "output_type": "stream",
     "text": [
      "Minimum Validation Loss: 0.2344\n"
     ]
    },
    {
     "data": {
      "image/png": "[encoded data removed]",
      "text/plain": [
       "<Figure size 432x288 with 1 Axes>"
      ]
     },
     "metadata": {
      "needs_background": "light"
     },
     "output_type": "display_data"
    }
   ],
   "source": [
    "\n",
    "# Build train_history\n",
    "# history_df1 = pd.DataFrame(train_history1.history)\n",
    "# history_df2 = pd.DataFrame(train_history2.history)\n",
    "# history_df = history_df1.append(history_df2, ignore_index=True)\n",
    "\n",
    "history_df = pd.DataFrame(train_history1.history)\n",
    "\n",
    "# Plot training and validation loss over each epoch\n",
    "history_df.loc[:, ['loss', 'val_loss']].plot()\n",
    "plt.title(label='Training + Validation Loss Over Time', fontsize=17, pad=19)\n",
    "plt.xlabel('Epoch', labelpad=14, fontsize=14)\n",
    "plt.ylabel('Binary Crossentropy Loss', labelpad=16, fontsize=14)\n",
    "print(\"Minimum Validation Loss: {:0.4f}\".format(history_df['val_loss'].min()))\n",
    "\n",
    "# Save figure\n",
    "plt.savefig('balanced_trainvalloss_16STEP_8EPOCH.png', dpi=300.0, transparent=True)"
   ]
  },
  {
   "cell_type": "code",
   "execution_count": null,
   "metadata": {},
   "outputs": [],
   "source": []
  },
  {
   "cell_type": "code",
   "execution_count": 16,
   "metadata": {
    "id": "tDVNwf-eOXo1"
   },
   "outputs": [
    {
     "ename": "NameError",
     "evalue": "name 'train_history2' is not defined",
     "output_type": "error",
     "traceback": [
      "\u001b[0;31m---------------------------------------------------------------------------\u001b[0m",
      "\u001b[0;31mNameError\u001b[0m                                 Traceback (most recent call last)",
      "\u001b[0;32m<ipython-input-16-650141f37a41>\u001b[0m in \u001b[0;36m<module>\u001b[0;34m\u001b[0m\n\u001b[1;32m      1\u001b[0m \u001b[0;31m# Build train_history\u001b[0m\u001b[0;34m\u001b[0m\u001b[0;34m\u001b[0m\u001b[0;34m\u001b[0m\u001b[0m\n\u001b[1;32m      2\u001b[0m \u001b[0mhistory_df1\u001b[0m \u001b[0;34m=\u001b[0m \u001b[0mpd\u001b[0m\u001b[0;34m.\u001b[0m\u001b[0mDataFrame\u001b[0m\u001b[0;34m(\u001b[0m\u001b[0mtrain_history1\u001b[0m\u001b[0;34m.\u001b[0m\u001b[0mhistory\u001b[0m\u001b[0;34m)\u001b[0m\u001b[0;34m\u001b[0m\u001b[0;34m\u001b[0m\u001b[0m\n\u001b[0;32m----> 3\u001b[0;31m \u001b[0mhistory_df2\u001b[0m \u001b[0;34m=\u001b[0m \u001b[0mpd\u001b[0m\u001b[0;34m.\u001b[0m\u001b[0mDataFrame\u001b[0m\u001b[0;34m(\u001b[0m\u001b[0mtrain_history2\u001b[0m\u001b[0;34m.\u001b[0m\u001b[0mhistory\u001b[0m\u001b[0;34m)\u001b[0m\u001b[0;34m\u001b[0m\u001b[0;34m\u001b[0m\u001b[0m\n\u001b[0m\u001b[1;32m      4\u001b[0m \u001b[0mhistory_df\u001b[0m \u001b[0;34m=\u001b[0m \u001b[0mhistory_df1\u001b[0m\u001b[0;34m.\u001b[0m\u001b[0mappend\u001b[0m\u001b[0;34m(\u001b[0m\u001b[0mhistory_df2\u001b[0m\u001b[0;34m,\u001b[0m \u001b[0mignore_index\u001b[0m\u001b[0;34m=\u001b[0m\u001b[0;32mTrue\u001b[0m\u001b[0;34m)\u001b[0m\u001b[0;34m\u001b[0m\u001b[0;34m\u001b[0m\u001b[0m\n\u001b[1;32m      5\u001b[0m \u001b[0;34m\u001b[0m\u001b[0m\n",
      "\u001b[0;31mNameError\u001b[0m: name 'train_history2' is not defined"
     ]
    }
   ],
   "source": [
    "\n",
    "# Build train_history\n",
    "history_df1 = pd.DataFrame(train_history1.history)\n",
    "history_df2 = pd.DataFrame(train_history2.history)\n",
    "history_df = history_df1.append(history_df2, ignore_index=True)\n",
    "\n",
    "# Plot training and validation loss over each epoch\n",
    "history_df.loc[:, ['loss', 'val_loss']].plot()\n",
    "plt.title(label='Training + Validation Loss Over Time', fontsize=17, pad=19)\n",
    "plt.xlabel('Epoch', labelpad=14, fontsize=14)\n",
    "plt.ylabel('Binary Crossentropy Loss', labelpad=16, fontsize=14)\n",
    "print(\"Minimum Validation Loss: {:0.4f}\".format(history_df['val_loss'].min()))\n",
    "\n",
    "# Save figure\n",
    "plt.savefig('balanced_trainvalloss_16STEP_8EPOCH_Full.png', dpi=300.0, transparent=True)"
   ]
  },
  {
   "cell_type": "code",
   "execution_count": 18,
   "metadata": {
    "id": "-QN00ddpOaX2"
   },
   "outputs": [
    {
     "data": {
      "image/png": "[encoded data removed]",
      "text/plain": [
       "<Figure size 432x432 with 2 Axes>"
      ]
     },
     "metadata": {
      "needs_background": "light"
     },
     "output_type": "display_data"
    }
   ],
   "source": [
    "# Plot confusion matrix\n",
    "skplt.metrics.plot_confusion_matrix(y_test.to_list(),\n",
    "                                    y_pred_thresh.tolist(),\n",
    "                                    figsize=(6,6),\n",
    "                                    text_fontsize=14)\n",
    "plt.title(label='Test Confusion Matrix', fontsize=20, pad=17)\n",
    "plt.xlabel('Predicted Label', labelpad=14)\n",
    "plt.ylabel('True Label', labelpad=14)\n",
    "\n",
    "# Save the figure\n",
    "plt.savefig('balanced_confusionmatrix.png', dpi=300.0, transparent=True)"
   ]
  },
  {
   "cell_type": "code",
   "execution_count": 5,
   "metadata": {
    "id": "cr98RFKacxjt"
   },
   "outputs": [
    {
     "name": "stderr",
     "output_type": "stream",
     "text": [
      "\r",
      "  0%|          | 0/2 [00:00<?, ?it/s]"
     ]
    },
    {
     "name": "stdout",
     "output_type": "stream",
     "text": [
      "0\n"
     ]
    },
    {
     "name": "stderr",
     "output_type": "stream",
     "text": [
      "\r",
      " 50%|█████     | 1/2 [50:17<50:17, 3017.28s/it]"
     ]
    },
    {
     "name": "stdout",
     "output_type": "stream",
     "text": [
      "1\n"
     ]
    },
    {
     "name": "stderr",
     "output_type": "stream",
     "text": [
      "100%|██████████| 2/2 [1:44:41<00:00, 3140.99s/it]\n",
      "  0%|          | 0/2 [00:00<?, ?it/s]"
     ]
    },
    {
     "name": "stdout",
     "output_type": "stream",
     "text": [
      "0\n"
     ]
    },
    {
     "name": "stderr",
     "output_type": "stream",
     "text": [
      "\r",
      " 50%|█████     | 1/2 [46:25<46:25, 2785.71s/it]"
     ]
    },
    {
     "name": "stdout",
     "output_type": "stream",
     "text": [
      "1\n"
     ]
    },
    {
     "name": "stderr",
     "output_type": "stream",
     "text": [
      "100%|██████████| 2/2 [1:32:39<00:00, 2779.76s/it]\n"
     ]
    }
   ],
   "source": [
    "\n",
    "def augment_sentence(sentence, aug, num_threads):\n",
    "    \"\"\"\"\"\"\"\"\"\n",
    "    Constructs a new sentence via text augmentation.\n",
    "    \n",
    "    Input:\n",
    "        - sentence:     A string of text\n",
    "        - aug:          An augmentation object defined by the nlpaug library\n",
    "        - num_threads:  Integer controlling the number of threads to use if\n",
    "                        augmenting text via CPU\n",
    "    Output:\n",
    "        - A string of text that been augmented\n",
    "    \"\"\"\"\"\"\"\"\"\n",
    "    return aug.augment(sentence[:512], num_thread=num_threads)\n",
    "    \n",
    "\n",
    "\n",
    "def augment_text(df, aug, num_threads, num_times, review_type):\n",
    "    \"\"\"\"\"\"\"\"\"\n",
    "    Takes a pandas DataFrame and augments its text data.\n",
    "    \n",
    "    Input:\n",
    "        - df:            A pandas DataFrame containing the columns:\n",
    "                                - 'comment_text' containing strings of text to augment.\n",
    "                                - 'isToxic' binary target variable containing 0's and 1's.\n",
    "        - aug:           Augmentation object defined by the nlpaug library.\n",
    "        - num_threads:   Integer controlling number of threads to use if augmenting\n",
    "                         text via CPU\n",
    "        - num_times:     Integer representing the number of times to augment text.\n",
    "        - review_type:   Type of review to augment (postive or negative)\n",
    "    Output:\n",
    "        - df:            Copy of the same pandas DataFrame with augmented data \n",
    "                         appended to it and with rows randomly shuffled.\n",
    "    \"\"\"\"\"\"\"\"\"\n",
    "    \n",
    "    # Get rows of data to augment\n",
    "    data =df[df['Result'] == review_type]\n",
    "    totalRows=data.shape[0]\n",
    "    \"\"\"\n",
    "    According to https://arxiv.org/pdf/1901.11196.pdf Average Accuracy increased to 88.6% using performing EDA on  \n",
    "    50 % of its Total training dataset. \n",
    "    \"\"\"\n",
    "    to_augment = data.sample(n = ((int)(totalRows/2)))  #Augment 50% of data \n",
    "    to_augmentX = to_augment['Comment']\n",
    "    to_augmentY = None\n",
    "    if review_type== 1:\n",
    "        to_augmentY = np.ones(len(to_augmentX.index) * num_times, dtype=np.int8);\n",
    "    else:\n",
    "        to_augmentY = np.zeros(len(to_augmentX.index) * num_times, dtype=np.int8);\n",
    "\n",
    "\n",
    "    # Build up dictionary containing augmented data\n",
    "    aug_dict = {'Comment': [], 'Result': to_augmentY}\n",
    "    for i in tqdm(range(num_times)):\n",
    "        print(i)\n",
    "        augX = [augment_sentence(x, aug, num_threads) for x in to_augmentX]\n",
    "        aug_dict['Comment'].extend(augX)\n",
    "    \n",
    "    # Build DataFrame containing augmented data\n",
    "    aug_df = pd.DataFrame.from_dict(aug_dict)\n",
    "    \n",
    "    return df.append(aug_df, ignore_index=True).sample(frac=1, random_state=42)\n",
    "    \n",
    "\n",
    "    \n",
    "# Define nlpaug augmentation object \n",
    "aug10p = nlpaw.ContextualWordEmbsAug(model_path='bert-base-uncased', aug_min=1, aug_p=0.1, action=\"substitute\")\n",
    "\n",
    "# Augment Negative class ([0] == 1)\n",
    "df = augment_text(df, aug10p, num_threads=8, num_times=2,review_type=0)\n",
    "# Augment Positive class ([0] == 1)\n",
    "df_train_valid = augment_text(df, aug10p, num_threads=8, num_times=2,review_type=1)"
   ]
  },
  {
   "cell_type": "code",
   "execution_count": 12,
   "metadata": {},
   "outputs": [
    {
     "data": {
      "text/plain": [
       "1    4480\n",
       "0    4480\n",
       "Name: Result, dtype: int64"
      ]
     },
     "execution_count": 12,
     "metadata": {},
     "output_type": "execute_result"
    }
   ],
   "source": [
    "df_train_valid[\"Result\"].value_counts()"
   ]
  },
  {
   "cell_type": "code",
   "execution_count": 13,
   "metadata": {},
   "outputs": [],
   "source": [
    "# Generate 80-20 train-validation splits\n",
    "X_train, X_valid, y_train, y_valid = train_test_split(df_train_valid[\"Comment\"],\n",
    "                                                      df_train_valid[\"Result\"],\n",
    "                                                      train_size=0.8,\n",
    "                                                      stratify=df_train_valid['Result'],\n",
    "                                                      shuffle=True,\n",
    "                                                      random_state=42)\n"
   ]
  },
  {
   "cell_type": "code",
   "execution_count": 14,
   "metadata": {},
   "outputs": [
    {
     "name": "stdout",
     "output_type": "stream",
     "text": [
      "Epoch 1/8\n",
      "16/16 [==============================] - 751s 49s/step - loss: 0.3707 - accuracy: 0.8408 - val_loss: 0.3121 - val_accuracy: 0.8677\n",
      "Epoch 2/8\n",
      "16/16 [==============================] - 786s 51s/step - loss: 0.3906 - accuracy: 0.8203 - val_loss: 0.3168 - val_accuracy: 0.8672\n",
      "Epoch 3/8\n",
      "16/16 [==============================] - 795s 52s/step - loss: 0.3556 - accuracy: 0.8613 - val_loss: 0.3285 - val_accuracy: 0.8577\n",
      "Epoch 4/8\n",
      "16/16 [==============================] - 781s 51s/step - loss: 0.3370 - accuracy: 0.8506 - val_loss: 0.3009 - val_accuracy: 0.8728\n",
      "Epoch 5/8\n",
      "16/16 [==============================] - 782s 51s/step - loss: 0.3559 - accuracy: 0.8457 - val_loss: 0.3028 - val_accuracy: 0.8694\n",
      "Epoch 6/8\n",
      "16/16 [==============================] - 794s 52s/step - loss: 0.3543 - accuracy: 0.8369 - val_loss: 0.3285 - val_accuracy: 0.8482\n",
      "Epoch 7/8\n",
      "16/16 [==============================] - 788s 51s/step - loss: 0.3562 - accuracy: 0.8389 - val_loss: 0.3482 - val_accuracy: 0.8309\n",
      "Epoch 8/8\n",
      "16/16 [==============================] - 773s 50s/step - loss: 0.3114 - accuracy: 0.8613 - val_loss: 0.3021 - val_accuracy: 0.8622\n"
     ]
    }
   ],
   "source": [
    "# Train the model\n",
    "train_history3 = model.fit(\n",
    "    x = [X_train_ids, X_train_attention],\n",
    "    y = y_train.to_numpy(),\n",
    "    epochs = params['EPOCHS'],\n",
    "    batch_size = params['BATCH_SIZE'],\n",
    "    steps_per_epoch = params['NUM_STEPS'],\n",
    "    validation_data = ([X_valid_ids, X_valid_attention], y_valid.to_numpy()),\n",
    "    verbose=1\n",
    ")"
   ]
  },
  {
   "cell_type": "code",
   "execution_count": null,
   "metadata": {},
   "outputs": [],
   "source": [
    "# Test Results with Data Augmentation\n",
    "data = test[:1000]\n",
    "X_test= data[\"Comment\"]\n",
    "y_test = data[\"Result\"]\n",
    "X_test_ids, X_test_attention = batch_encode(tokenizer, X_test.tolist())\n",
    "y_pred = model.predict([X_test_ids, X_test_attention])\n",
    "y_pred_thresh = np.where(y_pred >= params['POS_PROBA_THRESHOLD'], 1, 0)\n",
    "\n",
    "# Get evaluation results\n",
    "accuracy = accuracy_score(y_test, y_pred_thresh)\n",
    "auc_roc = roc_auc_score(y_test, y_pred)\n",
    "\n",
    "# Log the ROC curve\n",
    "# fpr, tpr, thresholds = roc_curve(y_test.to_numpy(), y_pred)\n",
    "print('Accuracy:  ', accuracy)    # 0.892\n",
    "print('ROC-AUC:   ', auc_roc) "
   ]
  }
 ],
 "metadata": {
  "accelerator": "GPU",
  "colab": {
   "history_visible": true,
   "name": "Yelp_Reviews_Exploratory_Data_Analysis .ipynb",
   "provenance": [],
   "toc_visible": true
  },
  "kernelspec": {
   "display_name": "Python 3",
   "language": "python",
   "name": "python3"
  },
  "language_info": {
   "codemirror_mode": {
    "name": "ipython",
    "version": 3
   },
   "file_extension": ".py",
   "mimetype": "text/x-python",
   "name": "python",
   "nbconvert_exporter": "python",
   "pygments_lexer": "ipython3",
   "version": "3.8.5"
  }
 },
 "nbformat": 4,
 "nbformat_minor": 1
}
